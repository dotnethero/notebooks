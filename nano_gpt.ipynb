{
  "nbformat": 4,
  "nbformat_minor": 0,
  "metadata": {
    "colab": {
      "provenance": [],
      "authorship_tag": "ABX9TyNUj7zguSMAiGQJH7A0oFaw"
    },
    "kernelspec": {
      "name": "python3",
      "display_name": "Python 3"
    },
    "language_info": {
      "name": "python"
    }
  },
  "cells": [
    {
      "cell_type": "code",
      "execution_count": null,
      "metadata": {
        "id": "dMqa0qPpB9aV"
      },
      "outputs": [],
      "source": [
        "!pip install jax\n",
        "!pip install flax"
      ]
    },
    {
      "cell_type": "code",
      "source": [
        "!wget https://raw.githubusercontent.com/karpathy/char-rnn/master/data/tinyshakespeare/input.txt"
      ],
      "metadata": {
        "colab": {
          "base_uri": "https://localhost:8080/"
        },
        "id": "szJbPb4dGlMO",
        "outputId": "653ec06d-c636-4111-8e7a-6939a158d8fa"
      },
      "execution_count": 5,
      "outputs": [
        {
          "output_type": "stream",
          "name": "stdout",
          "text": [
            "--2023-05-08 11:23:58--  https://raw.githubusercontent.com/karpathy/char-rnn/master/data/tinyshakespeare/input.txt\n",
            "Resolving raw.githubusercontent.com (raw.githubusercontent.com)... 185.199.108.133, 185.199.110.133, 185.199.111.133, ...\n",
            "Connecting to raw.githubusercontent.com (raw.githubusercontent.com)|185.199.108.133|:443... connected.\n",
            "HTTP request sent, awaiting response... 200 OK\n",
            "Length: 1115394 (1.1M) [text/plain]\n",
            "Saving to: ‘input.txt’\n",
            "\n",
            "\rinput.txt             0%[                    ]       0  --.-KB/s               \rinput.txt           100%[===================>]   1.06M  --.-KB/s    in 0.02s   \n",
            "\n",
            "2023-05-08 11:23:58 (60.4 MB/s) - ‘input.txt’ saved [1115394/1115394]\n",
            "\n",
            "--2023-05-08 11:23:58--  http://./data/input.txt\n",
            "Resolving . (.)... failed: No address associated with hostname.\n",
            "wget: unable to resolve host address ‘.’\n",
            "FINISHED --2023-05-08 11:23:58--\n",
            "Total wall clock time: 0.2s\n",
            "Downloaded: 1 files, 1.1M in 0.02s (60.4 MB/s)\n"
          ]
        }
      ]
    },
    {
      "cell_type": "code",
      "source": [
        "with open(\"input.txt\", \"r\", encoding=\"utf-8\") as f:\n",
        "    text = f.read()\n",
        "\n",
        "vocab = sorted(list(set(text)))\n",
        "vocab_size = len(vocab)\n",
        "\n",
        "print(vocab_size)\n",
        "print(''.join(vocab))\n"
      ],
      "metadata": {
        "colab": {
          "base_uri": "https://localhost:8080/"
        },
        "id": "pSEGnridG5ZX",
        "outputId": "a9a4e259-c9eb-4d20-fccf-ed61a0918991"
      },
      "execution_count": 92,
      "outputs": [
        {
          "output_type": "stream",
          "name": "stdout",
          "text": [
            "65\n",
            "\n",
            " !$&',-.3:;?ABCDEFGHIJKLMNOPQRSTUVWXYZabcdefghijklmnopqrstuvwxyz\n"
          ]
        }
      ]
    },
    {
      "cell_type": "code",
      "source": [
        "itos = { i: s for i, s in enumerate(vocab) }\n",
        "stoi = { s: i for i, s in enumerate(vocab) }\n",
        "\n",
        "encode = lambda txt: [stoi[c] for c in txt ]\n",
        "decode = lambda num: ''.join([itos[n] for n in num ])\n",
        "\n",
        "encoded = encode(\"The test string\")\n",
        "decoded = decode(encoded)\n",
        "\n",
        "print(encoded)\n",
        "print(decoded)\n"
      ],
      "metadata": {
        "colab": {
          "base_uri": "https://localhost:8080/"
        },
        "id": "IoszAc6nHkxW",
        "outputId": "00ec1c01-fbe9-40ad-986d-25545209db36"
      },
      "execution_count": 93,
      "outputs": [
        {
          "output_type": "stream",
          "name": "stdout",
          "text": [
            "[32, 46, 43, 1, 58, 43, 57, 58, 1, 57, 58, 56, 47, 52, 45]\n",
            "The test string\n"
          ]
        }
      ]
    },
    {
      "cell_type": "code",
      "source": [
        "import jax\n",
        "import flax\n",
        "import optax\n",
        "\n",
        "from tqdm import tqdm\n",
        "from typing import Callable\n",
        "from jax import numpy as jnp\n",
        "from flax import linen as nn\n",
        "from functools import partial"
      ],
      "metadata": {
        "id": "YEml_yhcCF2m"
      },
      "execution_count": 94,
      "outputs": []
    },
    {
      "cell_type": "code",
      "source": [
        "data = jnp.array(encode(text))\n",
        "data.shape"
      ],
      "metadata": {
        "colab": {
          "base_uri": "https://localhost:8080/"
        },
        "id": "loUgrT_wJWPM",
        "outputId": "4fa18358-72ae-48f6-9c77-53c5e52d6b55"
      },
      "execution_count": 95,
      "outputs": [
        {
          "output_type": "execute_result",
          "data": {
            "text/plain": [
              "(1115394,)"
            ]
          },
          "metadata": {},
          "execution_count": 95
        }
      ]
    },
    {
      "cell_type": "code",
      "source": [
        "n_val = int(0.9 * len(data))\n",
        "train_data = data[:n_val]\n",
        "val_data = data[n_val:]\n",
        "\n",
        "train_data.shape, val_data.shape"
      ],
      "metadata": {
        "colab": {
          "base_uri": "https://localhost:8080/"
        },
        "id": "EPB6G1z8MB1N",
        "outputId": "883ac68e-f073-49b7-a8aa-1206229a2177"
      },
      "execution_count": 96,
      "outputs": [
        {
          "output_type": "execute_result",
          "data": {
            "text/plain": [
              "((1003854,), (111540,))"
            ]
          },
          "metadata": {},
          "execution_count": 96
        }
      ]
    },
    {
      "cell_type": "code",
      "source": [
        "block_size = 8\n",
        "batch_size = 4\n",
        "n_embed = 32\n",
        "\n",
        "def get_batch(batch_key, *, split='train'):\n",
        "    d = train_data if split == 'train' else val_data\n",
        "    ix = jax.random.randint(batch_key, (batch_size,), 0, len(d)-block_size)\n",
        "    x = jnp.stack([d[i:i+block_size] for i in ix])\n",
        "    y = jnp.stack([d[i+1:i+block_size+1] for i in ix])\n",
        "    return x, y\n",
        "\n",
        "key = jax.random.PRNGKey(1337)\n",
        "\n",
        "X, Y = get_batch(key)\n",
        "print(X.shape)\n",
        "print(Y.shape)"
      ],
      "metadata": {
        "colab": {
          "base_uri": "https://localhost:8080/"
        },
        "id": "iDWSOGMuN3v0",
        "outputId": "1c3ab67f-2187-4ded-8300-57511118d4e2"
      },
      "execution_count": 184,
      "outputs": [
        {
          "output_type": "stream",
          "name": "stdout",
          "text": [
            "(4, 8)\n",
            "(4, 8)\n"
          ]
        }
      ]
    },
    {
      "cell_type": "code",
      "source": [
        "ones = jnp.ones(shape=(10, 10))\n",
        "tril = jnp.tril(ones)\n",
        "jax.lax.select(tril == 0, jax.lax.broadcast(jnp.NINF, ones.shape), ones)"
      ],
      "metadata": {
        "colab": {
          "base_uri": "https://localhost:8080/"
        },
        "id": "fjGlor_1JkVE",
        "outputId": "b02d8b64-eeac-4401-e825-cecaa899b7e1"
      },
      "execution_count": 185,
      "outputs": [
        {
          "output_type": "execute_result",
          "data": {
            "text/plain": [
              "Array([[  1., -inf, -inf, -inf, -inf, -inf, -inf, -inf, -inf, -inf],\n",
              "       [  1.,   1., -inf, -inf, -inf, -inf, -inf, -inf, -inf, -inf],\n",
              "       [  1.,   1.,   1., -inf, -inf, -inf, -inf, -inf, -inf, -inf],\n",
              "       [  1.,   1.,   1.,   1., -inf, -inf, -inf, -inf, -inf, -inf],\n",
              "       [  1.,   1.,   1.,   1.,   1., -inf, -inf, -inf, -inf, -inf],\n",
              "       [  1.,   1.,   1.,   1.,   1.,   1., -inf, -inf, -inf, -inf],\n",
              "       [  1.,   1.,   1.,   1.,   1.,   1.,   1., -inf, -inf, -inf],\n",
              "       [  1.,   1.,   1.,   1.,   1.,   1.,   1.,   1., -inf, -inf],\n",
              "       [  1.,   1.,   1.,   1.,   1.,   1.,   1.,   1.,   1., -inf],\n",
              "       [  1.,   1.,   1.,   1.,   1.,   1.,   1.,   1.,   1.,   1.]],      dtype=float32)"
            ]
          },
          "metadata": {},
          "execution_count": 185
        }
      ]
    },
    {
      "cell_type": "code",
      "source": [
        "class AttentionHead(nn.Module):\n",
        "\n",
        "    wq_init: Callable = nn.initializers.lecun_normal()\n",
        "    wk_init: Callable = nn.initializers.lecun_normal()\n",
        "    wv_init: Callable = nn.initializers.lecun_normal()\n",
        "    \n",
        "    head_size: int = 32\n",
        "    \n",
        "    @nn.compact\n",
        "    def __call__(self, inputs):\n",
        "        \n",
        "        B, T, C = inputs.shape\n",
        "\n",
        "        # mask\n",
        "        ones = jnp.ones(shape=(T, T))\n",
        "        tril = jnp.tril(ones)\n",
        "        tril = jnp.stack([tril] * B)\n",
        "        \n",
        "        WQ = self.param(\"WQ\", self.wq_init, (C, self.head_size))\n",
        "        WK = self.param(\"WK\", self.wk_init, (C, self.head_size))\n",
        "        WV = self.param(\"WV\", self.wv_init, (C, self.head_size))\n",
        "        \n",
        "        Q = inputs @ WQ\n",
        "        K = inputs @ WK\n",
        "        V = inputs @ WV\n",
        "\n",
        "        KT = K.transpose([0, 2, 1]) # B, H, T\n",
        "        QK = Q @ KT / jnp.sqrt(self.head_size)\n",
        "        QK = jax.lax.select(tril == 0, jax.lax.broadcast(jnp.NINF, QK.shape), QK)\n",
        "\n",
        "        attention = nn.softmax(QK, axis=-1) @ V\n",
        "\n",
        "        return attention\n",
        "\n",
        "class MultiHeadAttention(nn.Module):\n",
        "\n",
        "    head_number: int = 4\n",
        "    head_size: int = 32 // 4\n",
        "\n",
        "    def setup(self):\n",
        "        self.heads = [AttentionHead(head_size=self.head_size) for i in range(self.head_number)]\n",
        "\n",
        "    def __call__(self, inputs):\n",
        "        results = [h(inputs) for h in self.heads]\n",
        "        return jnp.concatenate(results, axis=-1)\n",
        "\n",
        "class BigramLanguageModel(nn.Module):\n",
        "    \n",
        "    vocab_size: int\n",
        "    block_size: int\n",
        "    embedding_size: int\n",
        "    head_number: int = 4\n",
        "\n",
        "    def setup(self):\n",
        "        self.token_embedding = nn.Embed(num_embeddings=self.vocab_size, features=self.embedding_size)\n",
        "        self.position_embedding = nn.Embed(num_embeddings=self.block_size, features=self.embedding_size)\n",
        "        self.sa_heads = MultiHeadAttention(head_number=self.head_number, head_size=self.embedding_size // self.head_number)\n",
        "        self.lm_head = nn.Dense(self.vocab_size)\n",
        "    \n",
        "    def __call__(self, idx):\n",
        "        token_embeddings = self.token_embedding(idx) # B, T, C\n",
        "\n",
        "        positions = jnp.arange(0, self.block_size)\n",
        "        positions_embeddings = self.position_embedding(positions) # T, C\n",
        "\n",
        "        embeddings = token_embeddings + positions_embeddings\n",
        "        attention = self.sa_heads(embeddings)\n",
        "        logits = self.lm_head(attention)\n",
        "\n",
        "        return logits\n",
        "\n",
        "@jax.jit\n",
        "def bigram_loss(y_hat, y):\n",
        "    losses = optax.softmax_cross_entropy_with_integer_labels(y_hat, y)\n",
        "    return jnp.mean(losses)\n",
        "\n",
        "def bigram_generate(apply_fn: Callable, key, idx, max_tokens=1):\n",
        "    for i in range(max_tokens):\n",
        "        key_i = jax.random.fold_in(key, i)\n",
        "        logits = apply_fn(params, idx[:, -block_size:])\n",
        "        logits = logits[:, -1, :] # B, C\n",
        "        probs = nn.softmax(logits, axis=-1) # B, C\n",
        "        idx_next = jax.random.categorical(key_i, logits, axis=-1) # B\n",
        "        idx_next = jnp.expand_dims(idx_next, -1)\n",
        "        idx = jnp.concatenate([idx, idx_next], axis=1) # B, T+1\n",
        "    return idx\n",
        "\n",
        "@partial(jax.jit, static_argnums=[0])\n",
        "def train_step(apply_fn: Callable, params, opt_state, x_batch, y_batch):\n",
        "\n",
        "    @jax.jit\n",
        "    def loss_fn(params, x_batch, y_batch):\n",
        "        y_hat = apply_fn(params, x_batch)\n",
        "        return bigram_loss(y_hat, y_batch)\n",
        "\n",
        "    loss, grad = jax.value_and_grad(loss_fn)(params, x_batch, y_batch)\n",
        "    updates, opt_state = opt.update(grad, opt_state)\n",
        "    params = optax.apply_updates(params, updates)\n",
        "    return params, opt_state, loss\n"
      ],
      "metadata": {
        "id": "odzKm4ItQSd5"
      },
      "execution_count": 214,
      "outputs": []
    },
    {
      "cell_type": "code",
      "source": [
        "key = jax.random.PRNGKey(1337)\n",
        "\n",
        "model = BigramLanguageModel(vocab_size=vocab_size, block_size=block_size, embedding_size=n_embed)\n",
        "params = model.init(key, X)\n",
        "\n",
        "out = model.apply(params, X)\n",
        "print(out.shape)\n",
        "\n",
        "loss = bigram_loss(out, Y)\n",
        "print(loss)"
      ],
      "metadata": {
        "colab": {
          "base_uri": "https://localhost:8080/"
        },
        "id": "joSWKRn_Dwqv",
        "outputId": "ae49ad61-f13f-4366-f45d-8cfac4ee9255"
      },
      "execution_count": 216,
      "outputs": [
        {
          "output_type": "stream",
          "name": "stdout",
          "text": [
            "(4, 8, 65)\n",
            "4.187803\n"
          ]
        }
      ]
    },
    {
      "cell_type": "code",
      "source": [
        "key = jax.random.PRNGKey(1337)\n",
        "key_init, key_shuffle = jax.random.split(key)\n",
        "\n",
        "model = BigramLanguageModel(vocab_size=vocab_size, block_size=block_size, embedding_size=n_embed)\n",
        "params = model.init(key, X)\n",
        "\n",
        "opt = optax.adam(1e-3)\n",
        "opt_state = opt.init(params)"
      ],
      "metadata": {
        "id": "Pfq-LkmKY_o5"
      },
      "execution_count": 217,
      "outputs": []
    },
    {
      "cell_type": "code",
      "source": [
        "for epoch in tqdm(range(10000)):\n",
        "    key_batch = jax.random.fold_in(key=key_shuffle, data=epoch)\n",
        "    X, Y = get_batch(key_batch)\n",
        "    params, opt_state, loss = train_step(model.apply, params, opt_state, X, Y)\n",
        "\n",
        "print(f\"\\n\\nLoss: {loss}\") # Loss: 2.5348286628723145"
      ],
      "metadata": {
        "colab": {
          "base_uri": "https://localhost:8080/"
        },
        "id": "d86pVbzglSjr",
        "outputId": "8f13351e-f23e-48df-9231-2943dac1ab4f"
      },
      "execution_count": 220,
      "outputs": [
        {
          "output_type": "stream",
          "name": "stderr",
          "text": [
            "100%|██████████| 5000/5000 [01:22<00:00, 60.94it/s]"
          ]
        },
        {
          "output_type": "stream",
          "name": "stdout",
          "text": [
            "\n",
            "\n",
            "Loss: 2.577763557434082\n"
          ]
        },
        {
          "output_type": "stream",
          "name": "stderr",
          "text": [
            "\n"
          ]
        }
      ]
    },
    {
      "cell_type": "code",
      "source": [
        "Z = jnp.zeros(shape=(1, block_size), dtype=jnp.int32)\n",
        "out = bigram_generate(model.apply, key_shuffle, Z, max_tokens=500)\n",
        "out = decode(out[0][block_size:].tolist())\n",
        "print(out)\n"
      ],
      "metadata": {
        "colab": {
          "base_uri": "https://localhost:8080/"
        },
        "id": "U6fHtIALituo",
        "outputId": "f53b4247-64fb-4f2d-b0f2-0beeb1d4d052"
      },
      "execution_count": 221,
      "outputs": [
        {
          "output_type": "stream",
          "name": "stdout",
          "text": [
            "Sornter itiese fwthe. cild ist\n",
            "Now, Lor, Rou eurf lirscueber, here wut ADUS:\n",
            "And som whind uporke king tosal Gldsiv da\n",
            "Arer showncherith to thince.\n",
            "STO:\n",
            "Forerlinsow drvady ruar bergnt his weaus thiov thir gourege, wiole.\n",
            "\n",
            "DUCHAV:\n",
            "Ris hertorteswait, ist uto doo fithse thatUCEE:\n",
            "Thatre with, Courn ithsou ihe my hate, inads aight\n",
            "mo wrasto ander ldes mectorund trut for thith peney caimard thalampre, cich.\n",
            "DUn KING ICHARARICARKhis Why hencyou\n",
            "Cour ineas ccom, worveresy, my; weste.\n",
            "\n",
            "NY:\n",
            "And gher, son\n"
          ]
        }
      ]
    },
    {
      "cell_type": "code",
      "source": [],
      "metadata": {
        "id": "x6mQWBChCVP6"
      },
      "execution_count": 102,
      "outputs": []
    }
  ]
}