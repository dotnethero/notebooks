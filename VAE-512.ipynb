{
 "cells": [
  {
   "cell_type": "code",
   "execution_count": 2,
   "metadata": {
    "collapsed": true,
    "ExecuteTime": {
     "start_time": "2023-04-22T01:36:15.994989Z",
     "end_time": "2023-04-22T01:36:16.026887Z"
    }
   },
   "outputs": [],
   "source": [
    "import numpy as np\n",
    "import pickle\n",
    "import os\n",
    "import jax\n",
    "import optax\n",
    "\n",
    "from glob import glob\n",
    "from tqdm import tqdm\n",
    "from PIL import Image\n",
    "from jax import numpy as jnp\n",
    "from flax import linen as nn\n",
    "from matplotlib import pyplot as plt\n",
    "\n",
    "from dataclasses import field\n",
    "from typing import Sequence, List\n",
    "\n",
    "os.environ[\"XLA_PYTHON_CLIENT_MEM_FRACTION\"] = \".50\""
   ]
  },
  {
   "cell_type": "code",
   "execution_count": 3,
   "outputs": [
    {
     "data": {
      "text/plain": "(13, 512, 512, 3)"
     },
     "execution_count": 3,
     "metadata": {},
     "output_type": "execute_result"
    }
   ],
   "source": [
    "def load_images():\n",
    "    images_path = \"./daisy-512-ref/*\"\n",
    "    images = glob(images_path)\n",
    "    items = []\n",
    "\n",
    "    for image in images:\n",
    "        test = Image.open(image)\n",
    "        arr = jnp.asarray(test, dtype=jnp.float16) / 255.0\n",
    "        items.append(arr)\n",
    "\n",
    "    return jnp.array(items)\n",
    "\n",
    "def get_batch(images, key, size=10):\n",
    "    return jax.random.choice(key, images, shape=(size,))\n",
    "\n",
    "def view_batch_at(batch, index = 0):\n",
    "\n",
    "    @jax.jit\n",
    "    def denormalize(d):\n",
    "        d = jnp.floor(d * 255.0)\n",
    "        d = jnp.clip(d, 0, 255)\n",
    "        return d\n",
    "\n",
    "    array = np.array(denormalize(batch[index]), dtype=np.int8)\n",
    "    image = Image.fromarray(array, mode=\"RGB\")\n",
    "\n",
    "    return image\n",
    "\n",
    "all_images = load_images()\n",
    "all_images.shape"
   ],
   "metadata": {
    "collapsed": false,
    "ExecuteTime": {
     "start_time": "2023-04-22T01:36:16.535103Z",
     "end_time": "2023-04-22T01:36:21.667107Z"
    }
   }
  },
  {
   "cell_type": "code",
   "execution_count": 4,
   "outputs": [],
   "source": [
    "class Encoder(nn.Module):\n",
    "    channels: Sequence[int] = field(default_factory=lambda: [8, 16, 32, 64])\n",
    "    kernel: (int, int) = (5, 5)\n",
    "    latents: int = 64\n",
    "\n",
    "    @nn.compact\n",
    "    def __call__(self, inputs):\n",
    "        batch_size, *image_shape = inputs.shape\n",
    "\n",
    "        def conv(img, features):\n",
    "            img = nn.Conv(features=features, kernel_size=self.kernel)(img)\n",
    "            img = nn.relu(img)\n",
    "            img = nn.avg_pool(img, window_shape=(2, 2), strides=(2, 2))\n",
    "            return img\n",
    "\n",
    "        x = inputs\n",
    "\n",
    "        for c in self.channels:\n",
    "            x = conv(x, c)\n",
    "\n",
    "        x = jnp.reshape(x, (batch_size, -1))\n",
    "        z_mean = nn.Dense(self.latents)(x)\n",
    "        z_logvar = nn.Dense(self.latents)(x)\n",
    "        return z_mean, z_logvar\n",
    "\n",
    "class Sampler(nn.Module):\n",
    "\n",
    "    @nn.compact\n",
    "    def __call__(self, z_mean, z_logvar, z_key):\n",
    "        std = jnp.exp(0.5 * z_logvar)\n",
    "        eps = jax.random.normal(z_key, shape=z_mean.shape)\n",
    "        z = z_mean + std * eps\n",
    "        return z\n",
    "\n",
    "class Decoder(nn.Module):\n",
    "    channels: Sequence[int] = field(default_factory=lambda: [64, 32, 16, 8, 3])\n",
    "    kernel: (int, int) = (5, 5)\n",
    "    deconv_shape: (int, int, int) = (16, 16, 4)\n",
    "\n",
    "    @nn.compact\n",
    "    def __call__(self, inputs, *args, **kwargs):\n",
    "        batch_size, latents = inputs.shape\n",
    "\n",
    "        def unconv(img, features):\n",
    "            img = nn.ConvTranspose(features=features, kernel_size=self.kernel, strides=(2, 2))(img)\n",
    "            img = nn.relu(img)\n",
    "            return img\n",
    "\n",
    "        h, w, k = self.deconv_shape\n",
    "        x = inputs\n",
    "        x = nn.Dense(h * w * k)(x)\n",
    "        x = nn.relu(x)\n",
    "        x = jnp.reshape(x, (batch_size, h, w, k))\n",
    "\n",
    "        for c in self.channels:\n",
    "            x = unconv(x, c)\n",
    "\n",
    "        return x\n",
    "\n",
    "class VAE(nn.Module):\n",
    "\n",
    "    @nn.compact\n",
    "    def __call__(self, inputs, z_key, *args, **kwargs):\n",
    "        x = inputs\n",
    "        z_mean, z_logvar = Encoder()(x)\n",
    "        z = Sampler()(z_mean, z_logvar, z_key)\n",
    "        x_hat = Decoder()(z)\n",
    "        return x_hat, z_mean, z_logvar\n"
   ],
   "metadata": {
    "collapsed": false,
    "ExecuteTime": {
     "start_time": "2023-04-22T01:36:22.431308Z",
     "end_time": "2023-04-22T01:36:22.481173Z"
    }
   }
  },
  {
   "cell_type": "code",
   "execution_count": 5,
   "outputs": [],
   "source": [
    "key_root = jax.random.PRNGKey(1)\n",
    "key_init, key_train, key_infer = jax.random.split(key_root, 3)\n",
    "\n",
    "model = VAE()\n",
    "optim = optax.adam(1e-4)\n",
    "\n",
    "@jax.vmap\n",
    "def kl_divergence(mean, logvar):\n",
    "    return -0.5 * jnp.sum(1 + logvar - jnp.square(mean) - jnp.exp(logvar))\n",
    "\n",
    "@jax.vmap\n",
    "def l2_loss(x_hat, x):\n",
    "    return optax.l2_loss(x_hat, x)\n",
    "\n",
    "@jax.jit\n",
    "def train_step(params, opt_state, batch, z_key, kl_weight):\n",
    "\n",
    "    @jax.jit\n",
    "    def loss_fn(params, x_batch, z_key, kl_weight):\n",
    "        x_hat, z_mean, z_logvar = model.apply(params, x_batch, z_key)\n",
    "        l2 = l2_loss(x_hat, x_batch).mean()\n",
    "        kl = kl_weight * kl_divergence(z_mean, z_logvar).mean()\n",
    "        return l2 + kl, (l2, kl)\n",
    "\n",
    "    (loss, (l2, kl)), grad = jax.value_and_grad(loss_fn, has_aux=True)(params, batch, z_key, kl_weight)\n",
    "    updates, opt_state = optim.update(grad, opt_state)\n",
    "    params = optax.apply_updates(params, updates)\n",
    "    return params, opt_state, loss, l2, kl\n"
   ],
   "metadata": {
    "collapsed": false,
    "ExecuteTime": {
     "start_time": "2023-04-22T01:36:23.342902Z",
     "end_time": "2023-04-22T01:36:25.589464Z"
    }
   }
  },
  {
   "cell_type": "code",
   "execution_count": 6,
   "outputs": [],
   "source": [
    "batch_key, z_key, vae_key = jax.random.split(key_init, 3)\n",
    "vae_init_input = get_batch(all_images, batch_key, size=10)\n",
    "vae_params = model.init(vae_key, vae_init_input, z_key)\n",
    "opt_state = optim.init(vae_params)\n",
    "history = {'loss':[], 'L2':[], 'KL':[]}"
   ],
   "metadata": {
    "collapsed": false,
    "ExecuteTime": {
     "start_time": "2023-04-22T01:36:26.558384Z",
     "end_time": "2023-04-22T01:37:02.672661Z"
    }
   }
  },
  {
   "cell_type": "code",
   "execution_count": 7,
   "outputs": [
    {
     "name": "stderr",
     "output_type": "stream",
     "text": [
      " 34%|███▍      | 33792/100000 [1:52:29<3:41:19,  4.99it/s]"
     ]
    }
   ],
   "source": [
    "kl_weight = 1\n",
    "\n",
    "for epoch in tqdm(range(100000)):\n",
    "    epoch_key = jax.random.fold_in(key=key_train, data=epoch)\n",
    "    batch_key, z_key = jax.random.split(epoch_key)\n",
    "    batch = get_batch(all_images, batch_key, size=10)\n",
    "    vae_params, opt_state, loss, l2, kl = train_step(vae_params, opt_state, batch, z_key, kl_weight)\n",
    "    history['loss'].append(loss)\n",
    "    history['L2'].append(l2)\n",
    "    history['KL'].append(kl)\n",
    "    # if (epoch + 1) % 10 == 0:\n",
    "    #     print(f\"Loss: {loss}, KL: {kl}, L2: {l2}\")\n"
   ],
   "metadata": {
    "collapsed": false,
    "ExecuteTime": {
     "start_time": "2023-04-22T01:37:58.801014Z",
     "end_time": "2023-04-22T07:10:12.607240Z"
    }
   }
  },
  {
   "cell_type": "code",
   "execution_count": 8,
   "outputs": [],
   "source": [
    "start, end = 10, None\n",
    "figure, ax = plt.subplots(2)\n",
    "ax[0].plot(history['KL'][start:end], label=\"KL\")\n",
    "ax[0].legend()\n",
    "ax[1].plot(history['L2'][start:end], label=\"L2\")\n",
    "ax[1].legend()\n",
    "plt.show()\n"
   ],
   "metadata": {
    "collapsed": false,
    "ExecuteTime": {
     "start_time": "2023-04-22T08:04:27.950961Z",
     "end_time": "2023-04-22T08:05:19.901016Z"
    }
   }
  },
  {
   "cell_type": "code",
   "execution_count": 9,
   "outputs": [],
   "source": [
    "batch_key, *z_keys = jax.random.split(key_infer, 10)\n",
    "batch = get_batch(all_images, batch_key, size=1)\n",
    "\n",
    "images: List[Image] = []\n",
    "\n",
    "for z_key in z_keys:\n",
    "    batch_infer, _, _ = model.apply(vae_params, batch, z_key)\n",
    "    image = view_batch_at(batch_infer, 0)\n",
    "    images.append(image)\n",
    "\n",
    "images[0].show()"
   ],
   "metadata": {
    "collapsed": false,
    "ExecuteTime": {
     "start_time": "2023-04-22T08:05:25.509428Z",
     "end_time": "2023-04-22T08:05:46.456260Z"
    }
   }
  },
  {
   "cell_type": "code",
   "execution_count": 10,
   "outputs": [],
   "source": [
    "first, *other = images\n",
    "first.save('./outputs/daisy-64-latent-100k-steps-full.gif', save_all=True, append_images=other, duration=300, loop=0)"
   ],
   "metadata": {
    "collapsed": false,
    "ExecuteTime": {
     "start_time": "2023-04-22T08:05:59.055923Z",
     "end_time": "2023-04-22T08:06:00.180311Z"
    }
   }
  },
  {
   "cell_type": "code",
   "execution_count": 11,
   "outputs": [],
   "source": [
    "if not os.path.exists(\"./models\"):\n",
    "    os.mkdir(\"./models\")\n",
    "\n",
    "with open(\"./models/vae-64-latent-100k-steps-full.pickle\", 'wb') as f:\n",
    "    pickle.dump(vae_params, f)\n"
   ],
   "metadata": {
    "collapsed": false,
    "ExecuteTime": {
     "start_time": "2023-04-22T08:06:01.291971Z",
     "end_time": "2023-04-22T08:06:01.437800Z"
    }
   }
  },
  {
   "cell_type": "code",
   "execution_count": 10,
   "outputs": [],
   "source": [],
   "metadata": {
    "collapsed": false,
    "ExecuteTime": {
     "start_time": "2023-04-21T20:39:47.981039Z",
     "end_time": "2023-04-21T20:46:47.413747Z"
    }
   }
  }
 ],
 "metadata": {
  "kernelspec": {
   "display_name": "Python 3",
   "language": "python",
   "name": "python3"
  },
  "language_info": {
   "codemirror_mode": {
    "name": "ipython",
    "version": 2
   },
   "file_extension": ".py",
   "mimetype": "text/x-python",
   "name": "python",
   "nbconvert_exporter": "python",
   "pygments_lexer": "ipython2",
   "version": "2.7.6"
  }
 },
 "nbformat": 4,
 "nbformat_minor": 0
}
