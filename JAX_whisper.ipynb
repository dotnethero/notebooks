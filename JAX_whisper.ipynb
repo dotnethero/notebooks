{
  "nbformat": 4,
  "nbformat_minor": 0,
  "metadata": {
    "colab": {
      "provenance": [],
      "machine_shape": "hm",
      "gpuType": "A100",
      "authorship_tag": "ABX9TyNiI+zYtRjsjlMYa5o152kO"
    },
    "kernelspec": {
      "name": "python3",
      "display_name": "Python 3"
    },
    "language_info": {
      "name": "python"
    },
    "gpuClass": "standard"
  },
  "cells": [
    {
      "cell_type": "code",
      "source": [
        "import jax\n",
        "\n",
        "dev = jax.devices()\n",
        "key = jax.random.PRNGKey(0)\n",
        "\n",
        "print(dev)\n",
        "print(key)\n"
      ],
      "metadata": {
        "colab": {
          "base_uri": "https://localhost:8080/"
        },
        "id": "j_ErkB5HXYJG",
        "outputId": "af536cd1-f7bd-4053-d0d5-1ab69ce27d10"
      },
      "execution_count": null,
      "outputs": [
        {
          "output_type": "stream",
          "name": "stdout",
          "text": [
            "[StreamExecutorGpuDevice(id=0, process_index=0, slice_index=0)]\n",
            "[0 0]\n"
          ]
        }
      ]
    },
    {
      "cell_type": "code",
      "source": [
        "#!nvidia-smi\n",
        "#!pip install git+https://github.com/sanchit-gandhi/whisper-jax.git"
      ],
      "metadata": {
        "id": "8T2Zkzw8XcLc"
      },
      "execution_count": null,
      "outputs": []
    },
    {
      "cell_type": "markdown",
      "source": [],
      "metadata": {
        "id": "5ma4Rp3x5Ls4"
      }
    },
    {
      "cell_type": "code",
      "source": [
        "from jax import numpy as jnp\n",
        "from whisper_jax import FlaxWhisperPipline\n",
        "\n",
        "pipeline = FlaxWhisperPipline(\"openai/whisper-large-v2\", dtype=jnp.float16)"
      ],
      "metadata": {
        "id": "GeOkNP0nXmsb"
      },
      "execution_count": null,
      "outputs": []
    },
    {
      "cell_type": "code",
      "source": [
        "text = pipeline(\"harvard.wav\")\n",
        "text"
      ],
      "metadata": {
        "colab": {
          "base_uri": "https://localhost:8080/"
        },
        "id": "avrySCh-X9Hm",
        "outputId": "cfd51ed2-d6bf-4eeb-a683-7a85ef9d6c55"
      },
      "execution_count": null,
      "outputs": [
        {
          "output_type": "execute_result",
          "data": {
            "text/plain": [
              "{'text': ' The stale smell of old beer lingers. It takes heat to bring out the odor. A cold dip restores health and zest. A salt pickle tastes fine with ham. Tacos al pastor are my favorite. A zestful food is the hot cross bun.'}"
            ]
          },
          "metadata": {},
          "execution_count": 5
        }
      ]
    },
    {
      "cell_type": "code",
      "source": [
        "html = \"\"\"\n",
        "<html>\n",
        "<head>\n",
        "<style>\n",
        "    button { font-size: 18px; font-family: monospace; }\n",
        "    audio { display: block; margin: 10px 0; }\n",
        "    .record-button { background-color: red; color: white; border-radius: 25px; border: solid 1px darkred; padding: 10px 25px; cursor: pointer; transition: 50ms; }\n",
        "    .record-button:hover { background-color: #d30000; }\n",
        "    .record-button.on { background-color: #00d300; border: solid 1px darkgreen; }\n",
        "    .record-button.on:hover { background-color: #00a200; }\n",
        "</style>\n",
        "</head>\n",
        "<body>\n",
        "<div>\n",
        "    <button id=\"record\" class=\"record-button\">Record</button>\n",
        "</div>\n",
        "<script>\n",
        "    let recording = false;\n",
        "    let recorder = null;\n",
        "    let data = null;\n",
        "\n",
        "    const button = document.getElementById(\"record\");\n",
        "\n",
        "    function record(stream, resolve, reject) {\n",
        "        button.classList.add(\"on\");\n",
        "        button.innerText = \"On Air\";\n",
        "        recording = true;\n",
        "\n",
        "        recorder = new MediaRecorder(stream);\n",
        "        recorder.ondataavailable = function(e) {\n",
        "            const url = URL.createObjectURL(e.data);\n",
        "            const preview = document.createElement('audio');\n",
        "            preview.controls = true;\n",
        "            preview.src = url;\n",
        "            document.body.appendChild(preview);\n",
        "\n",
        "            const reader = new FileReader();\n",
        "            reader.readAsDataURL(e.data); \n",
        "            reader.onloadend = function() { resolve(reader.result); };\n",
        "        };\n",
        "        recorder.start();\n",
        "    }\n",
        "\n",
        "    function toggle(resolve, reject) {\n",
        "        if (recording) {\n",
        "            button.classList.remove(\"on\");\n",
        "            button.innerText = \"Record\";\n",
        "            button.style.display = \"none\";\n",
        "            recording = false;\n",
        "            recorder.stop();\n",
        "        } else {\n",
        "            navigator.mediaDevices.getUserMedia({audio: true})\n",
        "                .then(stream => record(stream, resolve, reject))\n",
        "                .catch(console.error);\n",
        "        }\n",
        "    }\n",
        "\n",
        "    const promised = new Promise(function(resolve, reject) {\n",
        "        button.addEventListener(\"click\", function(e) { toggle(resolve, reject); });\n",
        "    });\n",
        "</script>\n",
        "</body>\n",
        "</html>\n",
        "\"\"\""
      ],
      "metadata": {
        "id": "WxTTBTF6fQDc"
      },
      "execution_count": null,
      "outputs": []
    },
    {
      "cell_type": "code",
      "source": [
        "from IPython.display import HTML, Audio\n",
        "from google.colab.output import eval_js\n",
        "from base64 import b64decode\n",
        "\n",
        "display(HTML(html))\n",
        "data = eval_js(\"promised\")"
      ],
      "metadata": {
        "colab": {
          "base_uri": "https://localhost:8080/",
          "height": 91
        },
        "id": "5BGtF2evpA3h",
        "outputId": "ecfec2c9-21ba-4fc0-bc4f-3d61f32936d0"
      },
      "execution_count": null,
      "outputs": [
        {
          "output_type": "display_data",
          "data": {
            "text/plain": [
              "<IPython.core.display.HTML object>"
            ],
            "text/html": [
              "\n",
              "<html>\n",
              "<head>\n",
              "<style>\n",
              "    button { font-size: 18px; font-family: monospace; }\n",
              "    audio { display: block; margin: 10px 0; }\n",
              "    .record-button { background-color: red; color: white; border-radius: 25px; border: solid 1px darkred; padding: 10px 25px; cursor: pointer; transition: 50ms; }\n",
              "    .record-button:hover { background-color: #d30000; }\n",
              "    .record-button.on { background-color: #00d300; border: solid 1px darkgreen; }\n",
              "    .record-button.on:hover { background-color: #00a200; }\n",
              "</style>\n",
              "</head>\n",
              "<body>\n",
              "<div>\n",
              "    <button id=\"record\" class=\"record-button\">Record</button>\n",
              "</div>\n",
              "<script>\n",
              "    let recording = false;\n",
              "    let recorder = null;\n",
              "    let data = null;\n",
              "\n",
              "    const button = document.getElementById(\"record\");\n",
              "\n",
              "    function record(stream, resolve, reject) {\n",
              "        button.classList.add(\"on\");\n",
              "        button.innerText = \"On Air\";\n",
              "        recording = true;\n",
              "\n",
              "        recorder = new MediaRecorder(stream);\n",
              "        recorder.ondataavailable = function(e) {\n",
              "            const url = URL.createObjectURL(e.data);\n",
              "            const preview = document.createElement('audio');\n",
              "            preview.controls = true;\n",
              "            preview.src = url;\n",
              "            document.body.appendChild(preview);\n",
              "\n",
              "            const reader = new FileReader();\n",
              "            reader.readAsDataURL(e.data); \n",
              "            reader.onloadend = function() { resolve(reader.result); };\n",
              "        };\n",
              "        recorder.start();\n",
              "    }\n",
              "\n",
              "    function toggle(resolve, reject) {\n",
              "        if (recording) {\n",
              "            button.classList.remove(\"on\");\n",
              "            button.innerText = \"Record\";\n",
              "            button.style.display = \"none\";\n",
              "            recording = false;\n",
              "            recorder.stop();\n",
              "        } else {\n",
              "            navigator.mediaDevices.getUserMedia({audio: true})\n",
              "                .then(stream => record(stream, resolve, reject))\n",
              "                .catch(console.error);\n",
              "        }\n",
              "    }\n",
              "\n",
              "    const promised = new Promise(function(resolve, reject) {\n",
              "        button.addEventListener(\"click\", function(e) { toggle(resolve, reject); });\n",
              "    });\n",
              "</script>\n",
              "</body>\n",
              "</html>\n"
            ]
          },
          "metadata": {}
        }
      ]
    },
    {
      "cell_type": "code",
      "source": [
        "binary = b64decode(data.split(',')[1])\n",
        "\n",
        "with open(\"recording.ogg\", \"wb+\") as f:\n",
        "    f.write(binary)\n",
        "\n",
        "transcription = pipeline(\"recording.ogg\")\n",
        "transcription"
      ],
      "metadata": {
        "colab": {
          "base_uri": "https://localhost:8080/"
        },
        "id": "imH3QQwOxAc0",
        "outputId": "2770edc8-13b9-4fb8-fcbd-20e09bed150e"
      },
      "execution_count": null,
      "outputs": [
        {
          "output_type": "execute_result",
          "data": {
            "text/plain": [
              "{'text': ' Что тебе сказать?'}"
            ]
          },
          "metadata": {},
          "execution_count": 31
        }
      ]
    },
    {
      "cell_type": "code",
      "source": [],
      "metadata": {
        "id": "pzVEVJ5uz0gx"
      },
      "execution_count": null,
      "outputs": []
    }
  ]
}