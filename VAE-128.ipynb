{
 "cells": [
  {
   "cell_type": "code",
   "execution_count": 2,
   "metadata": {
    "collapsed": true,
    "ExecuteTime": {
     "start_time": "2023-04-22T09:55:40.721513Z",
     "end_time": "2023-04-22T09:55:40.736843Z"
    }
   },
   "outputs": [],
   "source": [
    "import numpy as np\n",
    "import pickle\n",
    "import os\n",
    "import jax\n",
    "import optax\n",
    "\n",
    "from glob import glob\n",
    "from tqdm import tqdm\n",
    "from PIL import Image\n",
    "from jax import numpy as jnp\n",
    "from flax import linen as nn\n",
    "from matplotlib import pyplot as plt\n",
    "\n",
    "from dataclasses import field\n",
    "from typing import Sequence, List\n",
    "\n",
    "os.environ[\"XLA_PYTHON_CLIENT_MEM_FRACTION\"] = \".50\""
   ]
  },
  {
   "cell_type": "code",
   "execution_count": 3,
   "outputs": [
    {
     "data": {
      "text/plain": "(10, 128, 128, 3)"
     },
     "execution_count": 3,
     "metadata": {},
     "output_type": "execute_result"
    }
   ],
   "source": [
    "def load_images():\n",
    "    images_path = \"./daisy-128/*\"\n",
    "    images = glob(images_path)\n",
    "    items = []\n",
    "\n",
    "    for image in images:\n",
    "        test = Image.open(image)\n",
    "        arr = jnp.asarray(test, dtype=jnp.float16) / 255.0\n",
    "        items.append(arr)\n",
    "\n",
    "    return jnp.array(items)\n",
    "\n",
    "def get_batch(images, key, size=10):\n",
    "    return jax.random.choice(key, images, shape=(size,))\n",
    "\n",
    "def view_batch_at(batch, index = 0):\n",
    "\n",
    "    @jax.jit\n",
    "    def denormalize(d):\n",
    "        d = jnp.floor(d * 255.0)\n",
    "        d = jnp.clip(d, 0, 255)\n",
    "        return d\n",
    "\n",
    "    array = np.array(denormalize(batch[index]), dtype=np.int8)\n",
    "    image = Image.fromarray(array, mode=\"RGB\")\n",
    "\n",
    "    return image\n",
    "\n",
    "all_images = load_images()\n",
    "all_images.shape"
   ],
   "metadata": {
    "collapsed": false,
    "ExecuteTime": {
     "start_time": "2023-04-22T09:55:43.715470Z",
     "end_time": "2023-04-22T09:56:01.204170Z"
    }
   }
  },
  {
   "cell_type": "code",
   "execution_count": 17,
   "outputs": [],
   "source": [
    "class Encoder(nn.Module):\n",
    "    latents: int = 16\n",
    "    channels: Sequence[int] = field(default_factory=lambda: [8, 16])\n",
    "    kernel: (int, int) = (5, 5)\n",
    "    kernel_init: nn.initializers.Initializer = nn.initializers.lecun_normal()\n",
    "    bias_init: nn.initializers.Initializer = nn.initializers.zeros\n",
    "\n",
    "    @nn.compact\n",
    "    def __call__(self, inputs):\n",
    "        batch_size, *image_shape = inputs.shape\n",
    "\n",
    "        def conv(img, features):\n",
    "            img = nn.Conv(features=features, kernel_size=self.kernel)(img)\n",
    "            img = nn.leaky_relu(img)\n",
    "            img = nn.avg_pool(img, window_shape=(2, 2), strides=(2, 2))\n",
    "            return img\n",
    "\n",
    "        x = inputs\n",
    "\n",
    "        for c in self.channels:\n",
    "            x = conv(x, c)\n",
    "\n",
    "        x = jnp.reshape(x, (batch_size, -1))\n",
    "        z_mean = nn.Dense(self.latents)(x)\n",
    "        z_logvar = nn.Dense(self.latents)(x)\n",
    "        return z_mean, z_logvar\n",
    "\n",
    "class Sampler(nn.Module):\n",
    "\n",
    "    @nn.compact\n",
    "    def __call__(self, z_mean, z_logvar, z_key):\n",
    "        std = jnp.exp(0.5 * z_logvar)\n",
    "        eps = jax.random.normal(z_key, shape=z_mean.shape)\n",
    "        z = z_mean + std * eps\n",
    "        return z\n",
    "\n",
    "class Decoder(nn.Module):\n",
    "    deconv_shape: (int, int, int) = (16, 16, 4)\n",
    "    channels: Sequence[int] = field(default_factory=lambda: [16, 8, 3])\n",
    "    kernel: (int, int) = (5, 5)\n",
    "    kernel_init: nn.initializers.Initializer = nn.initializers.lecun_normal()\n",
    "    bias_init: nn.initializers.Initializer = nn.initializers.zeros\n",
    "\n",
    "    @nn.compact\n",
    "    def __call__(self, inputs, *args, **kwargs):\n",
    "        batch_size, latents = inputs.shape\n",
    "\n",
    "        def unconv(img, features):\n",
    "            img = nn.ConvTranspose(features=features, kernel_size=self.kernel, strides=(2, 2))(img)\n",
    "            img = nn.leaky_relu(img)\n",
    "            return img\n",
    "\n",
    "        h, w, k = self.deconv_shape\n",
    "        x = inputs\n",
    "        x = nn.Dense(h * w * k)(x)\n",
    "        x = nn.leaky_relu(x)\n",
    "        x = jnp.reshape(x, (batch_size, h, w, k))\n",
    "\n",
    "        for c in self.channels:\n",
    "            x = unconv(x, c)\n",
    "\n",
    "        return x\n",
    "\n",
    "class VAE(nn.Module):\n",
    "\n",
    "    @nn.compact\n",
    "    def __call__(self, inputs, z_key, *args, **kwargs):\n",
    "        x = inputs\n",
    "        z_mean, z_logvar = Encoder()(x)\n",
    "        z = Sampler()(z_mean, z_logvar, z_key)\n",
    "        x_hat = Decoder()(z)\n",
    "        return x_hat, z_mean, z_logvar\n"
   ],
   "metadata": {
    "collapsed": false,
    "ExecuteTime": {
     "start_time": "2023-04-22T10:23:30.923885Z",
     "end_time": "2023-04-22T10:23:30.976935Z"
    }
   }
  },
  {
   "cell_type": "code",
   "execution_count": 19,
   "outputs": [],
   "source": [
    "key_root = jax.random.PRNGKey(1)\n",
    "key_init, key_train, key_infer = jax.random.split(key_root, 3)\n",
    "\n",
    "model = VAE()\n",
    "optim = optax.adam(1e-4)\n",
    "\n",
    "@jax.vmap\n",
    "def kl_divergence(mean, logvar):\n",
    "    return -0.5 * jnp.sum(1 + logvar - jnp.square(mean) - jnp.exp(logvar))\n",
    "\n",
    "@jax.vmap\n",
    "def l2_loss(x_hat, x):\n",
    "    return optax.l2_loss(x_hat, x)\n",
    "\n",
    "@jax.jit\n",
    "def loss_fn(params, x_batch, z_key, kl_weight):\n",
    "    x_hat, z_mean, z_logvar = model.apply(params, x_batch, z_key)\n",
    "    l2 = l2_loss(x_hat, x_batch).mean()\n",
    "    kl = kl_weight * kl_divergence(z_mean, z_logvar).mean()\n",
    "    return l2 + kl, (l2, kl)\n",
    "\n",
    "@jax.jit\n",
    "def train_step(params, opt_state, batch, z_key, kl_weight):\n",
    "    (loss, (l2, kl)), grad = jax.value_and_grad(loss_fn, has_aux=True)(params, batch, z_key, kl_weight)\n",
    "    updates, opt_state = optim.update(grad, opt_state)\n",
    "    params = optax.apply_updates(params, updates)\n",
    "    return params, opt_state, loss, l2, kl\n"
   ],
   "metadata": {
    "collapsed": false,
    "ExecuteTime": {
     "start_time": "2023-04-22T10:23:48.154952Z",
     "end_time": "2023-04-22T10:23:48.210471Z"
    }
   }
  },
  {
   "cell_type": "code",
   "execution_count": 20,
   "outputs": [],
   "source": [
    "batch_key, init_z_key, vae_key = jax.random.split(key_init, 3)\n",
    "vae_init_input = get_batch(all_images, batch_key, size=10)\n",
    "vae_params = model.init(vae_key, vae_init_input, init_z_key, use_running_average=True)\n",
    "opt_state = optim.init(vae_params)\n",
    "history = {'loss':[], 'L2':[], 'KL':[]}"
   ],
   "metadata": {
    "collapsed": false,
    "ExecuteTime": {
     "start_time": "2023-04-22T10:23:49.120884Z",
     "end_time": "2023-04-22T10:23:50.173174Z"
    }
   }
  },
  {
   "cell_type": "code",
   "execution_count": 11,
   "outputs": [],
   "source": [
    "# optim = optax.adam(1e-5)\n",
    "# opt_state = optim.init(vae_params)"
   ],
   "metadata": {
    "collapsed": false,
    "ExecuteTime": {
     "start_time": "2023-04-22T10:04:53.334097Z",
     "end_time": "2023-04-22T10:04:53.362089Z"
    }
   }
  },
  {
   "cell_type": "code",
   "execution_count": null,
   "outputs": [
    {
     "name": "stderr",
     "output_type": "stream",
     "text": [
      " 15%|█▍        | 29837/200000 [04:40<27:12, 104.27it/s]"
     ]
    }
   ],
   "source": [
    "for epoch in tqdm(range(200000)):\n",
    "    epoch_key = jax.random.fold_in(key=key_train, data=epoch)\n",
    "    batch_key, train_z_key = jax.random.split(epoch_key)\n",
    "    train_batch = get_batch(all_images, batch_key, size=10)\n",
    "    vae_params, opt_state, train_loss, train_l2, train_kl = train_step(vae_params, opt_state, train_batch, train_z_key, kl_weight=1.0)\n",
    "    history['loss'].append(train_loss)\n",
    "    history['L2'].append(train_l2)\n",
    "    history['KL'].append(train_kl)\n",
    "    # if (epoch + 1) % 1000 == 0:\n",
    "    #     print(f\"Loss: {loss}, KL: {kl}, L2: {l2}\")\n"
   ],
   "metadata": {
    "collapsed": false,
    "ExecuteTime": {
     "start_time": "2023-04-22T10:24:12.620193Z",
     "end_time": "2023-04-22T10:39:43.027950Z"
    }
   }
  },
  {
   "cell_type": "code",
   "execution_count": null,
   "outputs": [],
   "source": [
    "start, end, step = 1000, None, 1000\n",
    "figure, ax = plt.subplots(2)\n",
    "ax[0].plot(history['KL'][start:end:step], label=\"KL\")\n",
    "ax[0].legend()\n",
    "ax[1].plot(history['L2'][start:end:step], label=\"L2\")\n",
    "ax[1].legend()\n",
    "plt.show()\n"
   ],
   "metadata": {
    "collapsed": false,
    "ExecuteTime": {
     "start_time": "2023-04-22T10:39:57.727498Z",
     "end_time": "2023-04-22T10:39:58.047882Z"
    }
   }
  },
  {
   "cell_type": "code",
   "execution_count": null,
   "outputs": [],
   "source": [
    "batch_key, *z_keys = jax.random.split(key_infer, 10)\n",
    "\n",
    "eval_batch = get_batch(all_images, batch_key, size=1)\n",
    "eval_images: List[Image] = []\n",
    "\n",
    "for eval_z_key in z_keys:\n",
    "    batch_infer, _, _ = model.apply(vae_params, eval_batch, eval_z_key)\n",
    "    eval_image = view_batch_at(batch_infer, 0)\n",
    "    eval_images.append(eval_image)\n",
    "\n",
    "eval_images[0].show()"
   ],
   "metadata": {
    "collapsed": false,
    "ExecuteTime": {
     "start_time": "2023-04-22T10:40:01.968922Z",
     "end_time": "2023-04-22T10:40:05.077093Z"
    }
   }
  },
  {
   "cell_type": "code",
   "execution_count": 16,
   "outputs": [],
   "source": [
    "first, *other = eval_images\n",
    "first.save('./outputs/128-daisy-16-latent-100k-steps.gif', save_all=True, append_images=other, duration=300, loop=0)"
   ],
   "metadata": {
    "collapsed": false,
    "ExecuteTime": {
     "start_time": "2023-04-22T10:21:27.293007Z",
     "end_time": "2023-04-22T10:21:27.921555Z"
    }
   }
  },
  {
   "cell_type": "code",
   "execution_count": 133,
   "outputs": [],
   "source": [
    "if not os.path.exists(\"./models\"):\n",
    "    os.mkdir(\"./models\")\n",
    "\n",
    "with open(\"./models/128-daisy-16-latent-300k-steps.pickle\", 'wb') as f:\n",
    "    pickle.dump(vae_params, f)\n"
   ],
   "metadata": {
    "collapsed": false,
    "ExecuteTime": {
     "start_time": "2023-04-22T01:32:52.342332Z",
     "end_time": "2023-04-22T01:32:52.373321Z"
    }
   }
  },
  {
   "cell_type": "code",
   "execution_count": 134,
   "outputs": [
    {
     "data": {
      "text/plain": "<PIL.GifImagePlugin.GifImageFile image mode=P size=128x128>",
      "image/png": "[encoded data removed]"
     },
     "execution_count": 134,
     "metadata": {},
     "output_type": "execute_result"
    }
   ],
   "source": [
    "gif = Image.open('./outputs/128-daisy-16-latent-300k-steps.gif')\n",
    "gif"
   ],
   "metadata": {
    "collapsed": false,
    "ExecuteTime": {
     "start_time": "2023-04-22T01:33:48.676131Z",
     "end_time": "2023-04-22T01:33:48.751011Z"
    }
   }
  },
  {
   "cell_type": "code",
   "execution_count": null,
   "outputs": [],
   "source": [],
   "metadata": {
    "collapsed": false
   }
  }
 ],
 "metadata": {
  "kernelspec": {
   "display_name": "Python 3",
   "language": "python",
   "name": "python3"
  },
  "language_info": {
   "codemirror_mode": {
    "name": "ipython",
    "version": 2
   },
   "file_extension": ".py",
   "mimetype": "text/x-python",
   "name": "python",
   "nbconvert_exporter": "python",
   "pygments_lexer": "ipython2",
   "version": "2.7.6"
  }
 },
 "nbformat": 4,
 "nbformat_minor": 0
}
