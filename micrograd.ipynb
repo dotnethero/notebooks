{
 "cells": [
  {
   "cell_type": "code",
   "execution_count": 15,
   "metadata": {
    "ExecuteTime": {
     "end_time": "2023-05-12T18:27:59.004932900Z",
     "start_time": "2023-05-12T18:27:58.977932800Z"
    },
    "collapsed": true
   },
   "outputs": [],
   "source": [
    "import math\n",
    "\n",
    "class Scalar:\n",
    "\n",
    "    def __init__(self, value, op=None, children=(), backward=lambda g: (0,), label=''):\n",
    "        self.value = value\n",
    "        self.label = label\n",
    "        self.op = op\n",
    "        self.children = children\n",
    "        self.backward = backward\n",
    "\n",
    "    def tanh(self):\n",
    "        t = math.tanh(self.value)\n",
    "        return Scalar(t, 'tanh', [self], lambda g: ((1 - t ** 2) * g,))\n",
    "\n",
    "    def __neg__(self):\n",
    "        return Scalar(-self.value, '-', [self], lambda g: (-g,))\n",
    "\n",
    "    def __add__(self, other):\n",
    "        other = wrap(other)\n",
    "        return Scalar(self.value + other.value, '+', [self, other], lambda g: (g, g))\n",
    "\n",
    "    def __radd__(self, other):\n",
    "        other = wrap(other)\n",
    "        return other + self\n",
    "\n",
    "    def __sub__(self, other):\n",
    "        other = wrap(other)\n",
    "        return self + (-other)\n",
    "\n",
    "    def __rsub__(self, other):\n",
    "        other = wrap(other)\n",
    "        return other + (-self)\n",
    "\n",
    "    def __mul__(self, other):\n",
    "        other = wrap(other)\n",
    "        return Scalar(self.value * other.value, '*', [self, other], lambda g: (g*other.value, g*self.value))\n",
    "\n",
    "    def __rmul__(self, other):\n",
    "        other = wrap(other)\n",
    "        return other * self\n",
    "\n",
    "    def __pow__(self, power, modulo=None):\n",
    "        assert isinstance(power, int | float)\n",
    "        return Scalar(self.value ** power, '**', [self], lambda g: (power * self.value ** (power-1) * g,))\n",
    "\n",
    "    def __truediv__(self, other):\n",
    "        return self * (other ** -1)\n",
    "\n",
    "    def __rtruediv__(self, other):\n",
    "        other = wrap(other)\n",
    "        return other / self\n",
    "\n",
    "    def __repr__(self):\n",
    "        return f'Scalar({self.label}={self.value})' if self.label != '' else f'Scalar({self.value})'\n",
    "\n",
    "def wrap(other):\n",
    "    return other if isinstance(other, Scalar) else Scalar(other)\n",
    "\n",
    "def grad(root, params):\n",
    "    grads = {root: 1}  # Gradient of self with respect to self is 1\n",
    "    stack = [root]  # Stack of nodes to visit\n",
    "    while stack:\n",
    "        node = stack.pop()\n",
    "        if node.children:\n",
    "            g = grads[node]\n",
    "            child_grads = node.backward(g)\n",
    "            for child, child_grad in zip(node.children, child_grads):\n",
    "                if child not in grads:\n",
    "                    grads[child] = 0\n",
    "                    stack.append(child)\n",
    "                grads[child] += child_grad\n",
    "    return [grads[p] for p in params]\n"
   ]
  },
  {
   "cell_type": "code",
   "execution_count": 16,
   "metadata": {
    "ExecuteTime": {
     "end_time": "2023-05-12T18:27:59.495037300Z",
     "start_time": "2023-05-12T18:27:59.484049200Z"
    },
    "collapsed": false
   },
   "outputs": [
    {
     "data": {
      "text/plain": [
       "[2, 10, 12]"
      ]
     },
     "execution_count": 16,
     "metadata": {},
     "output_type": "execute_result"
    }
   ],
   "source": [
    "a = Scalar(10, label='a')\n",
    "b = Scalar(2, label='b')\n",
    "c = Scalar(-3, label='c')\n",
    "\n",
    "xi = a * b - 2 * c ** 2\n",
    "\n",
    "gs = grad(xi, [a, b, c])\n",
    "gs\n"
   ]
  },
  {
   "cell_type": "code",
   "execution_count": 17,
   "metadata": {
    "ExecuteTime": {
     "end_time": "2023-05-12T18:28:00.377646100Z",
     "start_time": "2023-05-12T18:28:00.364643300Z"
    },
    "collapsed": false
   },
   "outputs": [],
   "source": [
    "import random\n",
    "\n",
    "class Neuron:\n",
    "\n",
    "    def __init__(self, dimensions):\n",
    "        self.dimensions = dimensions\n",
    "        self.weights = [Scalar(random.uniform(-1, 1), label=\"weight\") for d in range(dimensions)]\n",
    "        self.bias = Scalar(random.uniform(-1, 1), label=\"bias\")\n",
    "\n",
    "    def __call__(self, xs):\n",
    "        assert len(xs) == self.dimensions\n",
    "        act = sum([w * x for (x, w) in zip(xs, self.weights)], self.bias)\n",
    "        return act.tanh()\n",
    "\n",
    "    def parameters(self):\n",
    "        return self.weights + [self.bias]\n",
    "\n",
    "class Layer:\n",
    "\n",
    "    def __init__(self, inputs, outputs):\n",
    "        self.inputs = inputs\n",
    "        self.outputs = outputs\n",
    "        self.neurons = [Neuron(inputs) for o in range(outputs)]\n",
    "\n",
    "    def __call__(self, xs):\n",
    "        assert len(xs) == self.inputs\n",
    "        return [n(xs) for n in self.neurons]\n",
    "\n",
    "    def parameters(self):\n",
    "        return [p for n in self.neurons for p in n.parameters()]\n",
    "\n",
    "class MLP:\n",
    "\n",
    "    def __init__(self, inputs, *layers):\n",
    "        self.inputs = inputs\n",
    "        self.layers = [Layer(inputs if index == 0 else layers[index - 1], outputs) for index, outputs in enumerate(layers)]\n",
    "\n",
    "    def __call__(self, xs):\n",
    "        assert len(xs) == self.inputs\n",
    "        x = xs\n",
    "        for layer in self.layers:\n",
    "            x = layer(x)\n",
    "        return x\n",
    "\n",
    "    def parameters(self):\n",
    "        return [p for l in self.layers for p in l.parameters()]\n"
   ]
  },
  {
   "cell_type": "code",
   "execution_count": 18,
   "metadata": {
    "ExecuteTime": {
     "end_time": "2023-05-12T18:28:42.066361700Z",
     "start_time": "2023-05-12T18:28:42.060357400Z"
    },
    "collapsed": false
   },
   "outputs": [
    {
     "data": {
      "text/plain": [
       "[Scalar(-0.38735380435995725),\n",
       " Scalar(0.7627609273100618),\n",
       " Scalar(0.27432736080004705)]"
      ]
     },
     "execution_count": 18,
     "metadata": {},
     "output_type": "execute_result"
    }
   ],
   "source": [
    "mlp = MLP(2, 4, 4, 3)\n",
    "\n",
    "x1 = [1, 2]\n",
    "y1 = [-1, 1, 1]\n",
    "p1 = mlp(x1)\n",
    "p1\n"
   ]
  },
  {
   "cell_type": "code",
   "execution_count": 23,
   "metadata": {
    "ExecuteTime": {
     "end_time": "2023-05-12T18:29:13.882472600Z",
     "start_time": "2023-05-12T18:29:13.874474800Z"
    },
    "collapsed": false
   },
   "outputs": [
    {
     "name": "stdout",
     "output_type": "stream",
     "text": [
      "Loss: 0.01240515781534988\n",
      "Loss: 0.012112588699634644\n",
      "Loss: 0.011832979150463224\n",
      "Loss: 0.011565497684042511\n",
      "Loss: 0.011309382121942813\n",
      "Loss: 0.011063932527462541\n",
      "Loss: 0.010828504988850858\n",
      "Loss: 0.010602506133136614\n",
      "Loss: 0.010385388272223881\n",
      "Loss: 0.01017664509777683\n",
      "Loss: 0.009975807853794705\n",
      "Loss: 0.009782441926125412\n",
      "Loss: 0.009596143796847829\n",
      "Loss: 0.009416538318761655\n",
      "Loss: 0.009243276271396728\n",
      "Loss: 0.009076032165183875\n",
      "Loss: 0.008914502264875179\n",
      "Loss: 0.008758402807090336\n",
      "Loss: 0.008607468390104392\n",
      "Loss: 0.008461450516769692\n"
     ]
    }
   ],
   "source": [
    "for step in range(20):\n",
    "    pred = mlp(x1)\n",
    "    loss = sum([(p - y) ** 2 for p, y in zip(pred, y1)])\n",
    "    print(f\"Loss: {loss.value}\")\n",
    "    params = mlp.parameters()\n",
    "    grads = grad(loss, params)\n",
    "    for g, p in zip(grads, params):\n",
    "        p.value -= 0.1 * g\n"
   ]
  },
  {
   "cell_type": "code",
   "execution_count": 24,
   "metadata": {
    "ExecuteTime": {
     "end_time": "2023-05-12T18:29:17.854849Z",
     "start_time": "2023-05-12T18:29:17.836844600Z"
    },
    "collapsed": false
   },
   "outputs": [
    {
     "data": {
      "text/plain": [
       "[Scalar(-0.9397535845300004),\n",
       " Scalar(0.94055753925621),\n",
       " Scalar(0.9659841278578938)]"
      ]
     },
     "execution_count": 24,
     "metadata": {},
     "output_type": "execute_result"
    }
   ],
   "source": [
    "p2 = mlp(x1)\n",
    "p2"
   ]
  },
  {
   "cell_type": "code",
   "execution_count": null,
   "metadata": {
    "collapsed": false
   },
   "outputs": [],
   "source": []
  }
 ],
 "metadata": {
  "kernelspec": {
   "display_name": "Python 3",
   "language": "python",
   "name": "python3"
  },
  "language_info": {
   "codemirror_mode": {
    "name": "ipython",
    "version": 3
   },
   "file_extension": ".py",
   "mimetype": "text/x-python",
   "name": "python",
   "nbconvert_exporter": "python",
   "pygments_lexer": "ipython3",
   "version": "3.10.11"
  }
 },
 "nbformat": 4,
 "nbformat_minor": 0
}
