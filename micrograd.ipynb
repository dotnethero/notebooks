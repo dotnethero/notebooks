{
 "cells": [
  {
   "cell_type": "code",
   "execution_count": 108,
   "metadata": {
    "collapsed": true,
    "ExecuteTime": {
     "end_time": "2023-05-12T18:11:21.368537700Z",
     "start_time": "2023-05-12T18:11:21.339787Z"
    }
   },
   "outputs": [],
   "source": [
    "import math\n",
    "\n",
    "class Scalar:\n",
    "\n",
    "    def __init__(self, value, op=None, children=(), backward=lambda g: (0,), label=''):\n",
    "        self.value = value\n",
    "        self.label = label\n",
    "        self.op = op\n",
    "        self.children = children\n",
    "        self.backward = backward\n",
    "\n",
    "    def tanh(self):\n",
    "        return Scalar(math.tanh(self.value), 'tanh', [self], lambda g: ((1 - self.value) ** 2 * g,))\n",
    "\n",
    "    def __neg__(self):\n",
    "        return Scalar(-self.value, '-', [self], lambda g: (-g,))\n",
    "\n",
    "    def __add__(self, other):\n",
    "        other = wrap(other)\n",
    "        return Scalar(self.value + other.value, '+', [self, other], lambda g: (g, g))\n",
    "\n",
    "    def __radd__(self, other):\n",
    "        other = wrap(other)\n",
    "        return other + self\n",
    "\n",
    "    def __sub__(self, other):\n",
    "        other = wrap(other)\n",
    "        return self + (-other)\n",
    "\n",
    "    def __rsub__(self, other):\n",
    "        other = wrap(other)\n",
    "        return other + (-self)\n",
    "\n",
    "    def __mul__(self, other):\n",
    "        other = wrap(other)\n",
    "        return Scalar(self.value * other.value, '*', [self, other], lambda g: (g*other.value, g*self.value))\n",
    "\n",
    "    def __rmul__(self, other):\n",
    "        other = wrap(other)\n",
    "        return other * self\n",
    "\n",
    "    def __pow__(self, power, modulo=None):\n",
    "        assert isinstance(power, int | float)\n",
    "        return Scalar(self.value ** power, '**', [self], lambda g: (power * self.value ** (power-1) * g,))\n",
    "\n",
    "    def __truediv__(self, other):\n",
    "        return self * (other ** -1)\n",
    "\n",
    "    def __rtruediv__(self, other):\n",
    "        other = wrap(other)\n",
    "        return other / self\n",
    "\n",
    "    def __repr__(self):\n",
    "        return f'Scalar({self.label}={self.value})' if self.label != '' else f'Scalar({self.value})'\n",
    "\n",
    "def wrap(other):\n",
    "    return other if isinstance(other, Scalar) else Scalar(other)\n",
    "\n",
    "def grad(root, params):\n",
    "    grads = {root: 1}  # Gradient of self with respect to self is 1\n",
    "    stack = [root]  # Stack of nodes to visit\n",
    "    while stack:\n",
    "        node = stack.pop()\n",
    "        if node.children:\n",
    "            g = grads[node]\n",
    "            child_grads = node.backward(g)\n",
    "            for child, child_grad in zip(node.children, child_grads):\n",
    "                if child not in grads:\n",
    "                    grads[child] = 0\n",
    "                    stack.append(child)\n",
    "                grads[child] += child_grad\n",
    "    return [grads[p] for p in params]\n"
   ]
  },
  {
   "cell_type": "code",
   "execution_count": 109,
   "outputs": [
    {
     "data": {
      "text/plain": "[2, 10, 12]"
     },
     "execution_count": 109,
     "metadata": {},
     "output_type": "execute_result"
    }
   ],
   "source": [
    "a = Scalar(10, label='a')\n",
    "b = Scalar(2, label='b')\n",
    "c = Scalar(-3, label='c')\n",
    "\n",
    "xi = a * b - 2 * c ** 2\n",
    "\n",
    "gs = grad(xi, [a, b, c])\n",
    "gs\n"
   ],
   "metadata": {
    "collapsed": false,
    "ExecuteTime": {
     "end_time": "2023-05-12T18:11:22.462610600Z",
     "start_time": "2023-05-12T18:11:22.436956Z"
    }
   }
  },
  {
   "cell_type": "code",
   "execution_count": 110,
   "outputs": [],
   "source": [
    "import random\n",
    "\n",
    "class Neuron:\n",
    "\n",
    "    def __init__(self, dimensions):\n",
    "        self.dimensions = dimensions\n",
    "        self.weights = [Scalar(random.uniform(-1, 1), label=\"weight\") for d in range(dimensions)]\n",
    "        self.bias = Scalar(random.uniform(-1, 1), label=\"bias\")\n",
    "\n",
    "    def __call__(self, xs):\n",
    "        assert len(xs) == self.dimensions\n",
    "        act = sum([w * x for (x, w) in zip(xs, self.weights)], self.bias)\n",
    "        return act.tanh()\n",
    "\n",
    "    def parameters(self):\n",
    "        return self.weights + [self.bias]\n",
    "\n",
    "class Layer:\n",
    "\n",
    "    def __init__(self, inputs, outputs):\n",
    "        self.inputs = inputs\n",
    "        self.outputs = outputs\n",
    "        self.neurons = [Neuron(inputs) for o in range(outputs)]\n",
    "\n",
    "    def __call__(self, xs):\n",
    "        assert len(xs) == self.inputs\n",
    "        return [n(xs) for n in self.neurons]\n",
    "\n",
    "    def parameters(self):\n",
    "        return [p for n in self.neurons for p in n.parameters()]\n",
    "\n",
    "class MLP:\n",
    "\n",
    "    def __init__(self, inputs, *layers):\n",
    "        self.inputs = inputs\n",
    "        self.layers = [Layer(inputs if index == 0 else layers[index - 1], outputs) for index, outputs in enumerate(layers)]\n",
    "\n",
    "    def __call__(self, xs):\n",
    "        assert len(xs) == self.inputs\n",
    "        x = xs\n",
    "        for layer in self.layers:\n",
    "            x = layer(x)\n",
    "        return x\n",
    "\n",
    "    def parameters(self):\n",
    "        return [p for l in self.layers for p in l.parameters()]\n"
   ],
   "metadata": {
    "collapsed": false,
    "ExecuteTime": {
     "end_time": "2023-05-12T18:11:22.950623Z",
     "start_time": "2023-05-12T18:11:22.935635100Z"
    }
   }
  },
  {
   "cell_type": "code",
   "execution_count": 139,
   "outputs": [
    {
     "data": {
      "text/plain": "[Scalar(-0.6265775433460031),\n Scalar(-0.6135053732631057),\n Scalar(-0.6076525570850939)]"
     },
     "execution_count": 139,
     "metadata": {},
     "output_type": "execute_result"
    }
   ],
   "source": [
    "mlp = MLP(2, 4, 4, 3)\n",
    "\n",
    "x1 = [1, 2]\n",
    "y1 = [-1, 1, 1]\n",
    "p1 = mlp(x1)\n",
    "p1\n"
   ],
   "metadata": {
    "collapsed": false,
    "ExecuteTime": {
     "end_time": "2023-05-12T18:19:06.956850500Z",
     "start_time": "2023-05-12T18:19:06.932380800Z"
    }
   }
  },
  {
   "cell_type": "code",
   "execution_count": 140,
   "outputs": [
    {
     "name": "stdout",
     "output_type": "stream",
     "text": [
      "Loss: 5.327390664984661\n",
      "Loss: 1.00686374552574\n",
      "Loss: 0.15079531280808683\n",
      "Loss: 0.021648326743653832\n",
      "Loss: 0.01533283908872473\n",
      "Loss: 0.013589987918302784\n",
      "Loss: 0.012491633916745543\n",
      "Loss: 0.011582818795232704\n",
      "Loss: 0.010761418611198446\n",
      "Loss: 0.009995561938093134\n",
      "Loss: 0.009273146603103397\n",
      "Loss: 0.008588949354585552\n",
      "Loss: 0.007940494100702484\n",
      "Loss: 0.007326495179372101\n",
      "Loss: 0.006746193353298345\n",
      "Loss: 0.006199042716400739\n",
      "Loss: 0.005684550493136439\n",
      "Loss: 0.00520218992331003\n",
      "Loss: 0.0047513514833365834\n",
      "Loss: 0.0043313163189147436\n"
     ]
    }
   ],
   "source": [
    "for step in range(20):\n",
    "    pred = mlp(x1)\n",
    "    loss = sum([(p - y) ** 2 for p, y in zip(pred, y1)])\n",
    "    print(f\"Loss: {loss.value}\")\n",
    "    params = mlp.parameters()\n",
    "    grads = grad(loss, params)\n",
    "    for g, p in zip(grads, params):\n",
    "        p.value -= 0.1 * g\n"
   ],
   "metadata": {
    "collapsed": false,
    "ExecuteTime": {
     "end_time": "2023-05-12T18:19:07.586420700Z",
     "start_time": "2023-05-12T18:19:07.574422200Z"
    }
   }
  },
  {
   "cell_type": "code",
   "execution_count": 141,
   "outputs": [
    {
     "data": {
      "text/plain": "[Scalar(-0.9975888393552859),\n Scalar(0.9798527369131781),\n Scalar(0.9405902530270555)]"
     },
     "execution_count": 141,
     "metadata": {},
     "output_type": "execute_result"
    }
   ],
   "source": [
    "p2 = mlp(x1)\n",
    "p2"
   ],
   "metadata": {
    "collapsed": false,
    "ExecuteTime": {
     "end_time": "2023-05-12T18:19:09.191094600Z",
     "start_time": "2023-05-12T18:19:09.165360200Z"
    }
   }
  },
  {
   "cell_type": "code",
   "execution_count": null,
   "outputs": [],
   "source": [],
   "metadata": {
    "collapsed": false
   }
  }
 ],
 "metadata": {
  "kernelspec": {
   "display_name": "Python 3",
   "language": "python",
   "name": "python3"
  },
  "language_info": {
   "codemirror_mode": {
    "name": "ipython",
    "version": 2
   },
   "file_extension": ".py",
   "mimetype": "text/x-python",
   "name": "python",
   "nbconvert_exporter": "python",
   "pygments_lexer": "ipython2",
   "version": "2.7.6"
  }
 },
 "nbformat": 4,
 "nbformat_minor": 0
}
