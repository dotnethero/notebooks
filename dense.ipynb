{
 "cells": [
  {
   "cell_type": "code",
   "execution_count": 2,
   "metadata": {
    "collapsed": true,
    "ExecuteTime": {
     "start_time": "2023-04-21T09:11:07.547349Z",
     "end_time": "2023-04-21T09:11:07.560355Z"
    }
   },
   "outputs": [],
   "source": [
    "import jax\n",
    "import flax\n",
    "import optax\n",
    "import os\n",
    "\n",
    "from jax import numpy as jnp\n",
    "from flax import linen as nn\n",
    "\n",
    "os.environ[\"XLA_PYTHON_CLIENT_MEM_FRACTION\"] = \".20\""
   ]
  },
  {
   "cell_type": "code",
   "execution_count": 3,
   "outputs": [],
   "source": [
    "from typing import Callable, Sequence\n",
    "\n",
    "@jax.jit\n",
    "def relu(x):\n",
    "    return jnp.maximum(x, 0)\n",
    "\n",
    "class SimpleDense(nn.Module):\n",
    "    features: int\n",
    "    kernel_init: Callable = nn.initializers.lecun_normal()\n",
    "    bias_init: Callable = nn.initializers.zeros_init()\n",
    "\n",
    "    @nn.compact\n",
    "    def __call__(self, inputs, *args, **kwargs):\n",
    "        initialized = self.has_variable(\"stats\", \"counter\")\n",
    "        kernel = self.param(\"kernel\", self.kernel_init, (inputs.shape[-1], self.features))\n",
    "        bias = self.param(\"bias\", self.bias_init, (self.features,))\n",
    "        counter = self.variable(\"stats\", \"counter\", lambda: 0)\n",
    "        outputs = jnp.dot(inputs, kernel) + bias\n",
    "\n",
    "        if initialized:\n",
    "            counter.value += 1\n",
    "\n",
    "        return outputs\n",
    "\n",
    "class SimpleMLP(nn.Module):\n",
    "    features: Sequence[int]\n",
    "\n",
    "    @nn.compact\n",
    "    def __call__(self, inputs, *args, **kwargs):\n",
    "        x = inputs\n",
    "        last = len(self.features) - 1\n",
    "        for i, n in enumerate(self.features):\n",
    "            x = SimpleDense(n)(x)\n",
    "            if i != last:\n",
    "                x = relu(x)\n",
    "        return x\n"
   ],
   "metadata": {
    "collapsed": false,
    "ExecuteTime": {
     "start_time": "2023-04-21T09:11:09.345351Z",
     "end_time": "2023-04-21T09:11:09.400353Z"
    }
   }
  },
  {
   "cell_type": "code",
   "execution_count": 4,
   "outputs": [
    {
     "name": "stdout",
     "output_type": "stream",
     "text": [
      "(20, 10) (20, 3)\n"
     ]
    }
   ],
   "source": [
    "n_batch = 20\n",
    "x_dim = 10\n",
    "y_dim = 3\n",
    "\n",
    "key = jax.random.PRNGKey(0)\n",
    "key_w, key_b, key_x, key_noise = jax.random.split(key, 4)\n",
    "\n",
    "# Setup true line\n",
    "true_w = jax.random.normal(key_w, shape=(x_dim, y_dim))\n",
    "true_b = jax.random.normal(key_b, shape=(y_dim,))\n",
    "\n",
    "# Prepare training samples\n",
    "x_samples = jax.random.normal(key_x, shape=(n_batch, x_dim))\n",
    "y_samples = jnp.dot(x_samples, true_w) + true_b + 0.1 * jax.random.normal(key_noise, true_b.shape)\n",
    "\n",
    "print(x_samples.shape, y_samples.shape) # (20, 10) (20, 3)"
   ],
   "metadata": {
    "collapsed": false,
    "ExecuteTime": {
     "start_time": "2023-04-21T09:11:10.234536Z",
     "end_time": "2023-04-21T09:11:22.903307Z"
    }
   }
  },
  {
   "cell_type": "code",
   "execution_count": 5,
   "outputs": [],
   "source": [
    "key_init, key_infer = jax.random.split(key_noise)\n",
    "\n",
    "model = SimpleMLP([16, 8, y_dim])\n",
    "optim = optax.adam(0.01)\n",
    "\n",
    "@jax.jit\n",
    "def train_step(params, mstate, ostate):\n",
    "\n",
    "    @jax.jit\n",
    "    def mse(params, x_batch, y_batch):\n",
    "        y_pred, updated_state = model.apply({ \"params\": params, **mstate}, x_batch, mutable=mstate.keys())\n",
    "        y_diff = jnp.square(y_pred - y_batch)\n",
    "        y_losses = jnp.sum(y_diff, axis=1) / 2  # example loss\n",
    "        return jnp.mean(y_losses, axis=0), updated_state\n",
    "\n",
    "    (loss, mstate), grad = jax.value_and_grad(mse, has_aux=True)(params, x_samples, y_samples)\n",
    "\n",
    "    updates, ostate = optim.update(grad, ostate)\n",
    "    params = optax.apply_updates(params, updates)\n",
    "    return params, mstate, ostate, loss\n"
   ],
   "metadata": {
    "collapsed": false,
    "ExecuteTime": {
     "start_time": "2023-04-21T09:11:25.220196Z",
     "end_time": "2023-04-21T09:11:25.948721Z"
    }
   }
  },
  {
   "cell_type": "code",
   "execution_count": 6,
   "outputs": [
    {
     "name": "stdout",
     "output_type": "stream",
     "text": [
      "0.22833319\n",
      "0.08406925\n",
      "0.0697316\n",
      "0.053109266\n",
      "0.016352348\n",
      "0.00046114367\n",
      "5.5995006e-06\n",
      "6.684547e-08\n",
      "5.688082e-10\n",
      "3.8080554e-12\n"
     ]
    }
   ],
   "source": [
    "variables = model.init(key_infer, x_samples)\n",
    "mstate, params = variables.pop(\"params\")\n",
    "ostate = optim.init(params)\n",
    "\n",
    "for epoch in range(1000):\n",
    "    params, mstate, ostate, loss = train_step(params, mstate, ostate)\n",
    "    if (epoch + 1) % 100 == 0:\n",
    "        print(loss)"
   ],
   "metadata": {
    "collapsed": false,
    "ExecuteTime": {
     "start_time": "2023-04-21T09:11:26.565440Z",
     "end_time": "2023-04-21T09:11:34.690539Z"
    }
   }
  },
  {
   "cell_type": "code",
   "execution_count": 7,
   "outputs": [
    {
     "data": {
      "text/plain": "FrozenDict({\n    SimpleDense_0: {\n        bias: (16,),\n        kernel: (10, 16),\n    },\n    SimpleDense_1: {\n        bias: (8,),\n        kernel: (16, 8),\n    },\n    SimpleDense_2: {\n        bias: (3,),\n        kernel: (8, 3),\n    },\n})"
     },
     "execution_count": 7,
     "metadata": {},
     "output_type": "execute_result"
    }
   ],
   "source": [
    "jax.tree_map(jnp.shape, params)"
   ],
   "metadata": {
    "collapsed": false,
    "ExecuteTime": {
     "start_time": "2023-04-21T09:11:35.565875Z",
     "end_time": "2023-04-21T09:11:35.614872Z"
    }
   }
  },
  {
   "cell_type": "code",
   "execution_count": 8,
   "outputs": [
    {
     "data": {
      "text/plain": "FrozenDict({\n    stats: {\n        SimpleDense_0: {\n            counter: Array(1000, dtype=int32, weak_type=True),\n        },\n        SimpleDense_1: {\n            counter: Array(1000, dtype=int32, weak_type=True),\n        },\n        SimpleDense_2: {\n            counter: Array(1000, dtype=int32, weak_type=True),\n        },\n    },\n})"
     },
     "execution_count": 8,
     "metadata": {},
     "output_type": "execute_result"
    }
   ],
   "source": [
    "mstate"
   ],
   "metadata": {
    "collapsed": false,
    "ExecuteTime": {
     "start_time": "2023-04-21T09:11:36.559259Z",
     "end_time": "2023-04-21T09:11:36.608336Z"
    }
   }
  },
  {
   "cell_type": "code",
   "execution_count": null,
   "outputs": [],
   "source": [],
   "metadata": {
    "collapsed": false
   }
  }
 ],
 "metadata": {
  "kernelspec": {
   "display_name": "Python 3",
   "language": "python",
   "name": "python3"
  },
  "language_info": {
   "codemirror_mode": {
    "name": "ipython",
    "version": 2
   },
   "file_extension": ".py",
   "mimetype": "text/x-python",
   "name": "python",
   "nbconvert_exporter": "python",
   "pygments_lexer": "ipython2",
   "version": "2.7.6"
  }
 },
 "nbformat": 4,
 "nbformat_minor": 0
}
