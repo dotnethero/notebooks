{
 "cells": [
  {
   "cell_type": "code",
   "execution_count": 3,
   "metadata": {
    "collapsed": true,
    "ExecuteTime": {
     "start_time": "2023-04-23T19:44:05.753739Z",
     "end_time": "2023-04-23T19:44:05.759738Z"
    }
   },
   "outputs": [],
   "source": [
    "import numpy as np\n",
    "import pickle\n",
    "import os\n",
    "import jax\n",
    "import optax\n",
    "\n",
    "from glob import glob\n",
    "from tqdm import tqdm\n",
    "from PIL import Image\n",
    "from jax import numpy as jnp\n",
    "from flax import linen as nn\n",
    "from matplotlib import pyplot as plt\n",
    "\n",
    "from dataclasses import dataclass, field\n",
    "from typing import Sequence, List\n",
    "\n",
    "os.environ[\"XLA_PYTHON_CLIENT_MEM_FRACTION\"] = \".50\""
   ]
  },
  {
   "cell_type": "code",
   "execution_count": 64,
   "outputs": [
    {
     "data": {
      "text/plain": "(10, 128, 128, 3)"
     },
     "execution_count": 64,
     "metadata": {},
     "output_type": "execute_result"
    }
   ],
   "source": [
    "def load_images():\n",
    "    images_path = \"./daisy-128/*\"\n",
    "    images = glob(images_path)\n",
    "    items = []\n",
    "\n",
    "    for image in images:\n",
    "        test = Image.open(image)\n",
    "        arr = jnp.asarray(test, dtype=jnp.float16) / 255.0\n",
    "        items.append(arr)\n",
    "\n",
    "    return jnp.array(items)\n",
    "\n",
    "def get_batch(images, key, size=10):\n",
    "    return jax.random.choice(key, images, shape=(size,))\n",
    "\n",
    "@jax.jit\n",
    "def denormalize(d):\n",
    "    d = jnp.floor(d * 255.0)\n",
    "    d = jnp.clip(d, 0, 255)\n",
    "    return d\n",
    "\n",
    "def view_batch_at(batch, index = 0):\n",
    "    array = np.array(denormalize(batch[index]), dtype=np.int8)\n",
    "    image = Image.fromarray(array, mode=\"RGB\")\n",
    "    return image\n",
    "\n",
    "def batch_to_images(batch):\n",
    "    images_array = np.array(denormalize(batch), dtype=np.int8)\n",
    "    images = [Image.fromarray(image_array, mode=\"RGB\") for image_array in images_array]\n",
    "    return images\n",
    "\n",
    "all_images = load_images()\n",
    "all_images.shape"
   ],
   "metadata": {
    "collapsed": false,
    "ExecuteTime": {
     "start_time": "2023-04-23T20:15:32.011031Z",
     "end_time": "2023-04-23T20:15:32.158264Z"
    }
   }
  },
  {
   "cell_type": "code",
   "execution_count": 70,
   "outputs": [],
   "source": [
    "class Encoder(nn.Module):\n",
    "    channels: Sequence[int] = field(default_factory=lambda: [8, 16, 32])\n",
    "    strides: (int, int) = (2, 2)\n",
    "    kernel: (int, int) = (4, 4)\n",
    "    kernel_init: nn.initializers.Initializer = nn.initializers.lecun_normal()\n",
    "    bias_init: nn.initializers.Initializer = nn.initializers.zeros\n",
    "\n",
    "    @nn.compact\n",
    "    def __call__(self, inputs):\n",
    "\n",
    "        def conv(img, features):\n",
    "            img = nn.Conv(features=features, kernel_size=self.kernel)(img)\n",
    "            img = nn.leaky_relu(img)\n",
    "            img = nn.avg_pool(img, window_shape=self.strides, strides=self.strides)\n",
    "            return img\n",
    "\n",
    "        x = inputs\n",
    "        for c in self.channels:\n",
    "            x = conv(x, c)\n",
    "\n",
    "        return x\n",
    "\n",
    "class Decoder(nn.Module):\n",
    "    channels: Sequence[int] = field(default_factory=lambda: [16, 8, 3])\n",
    "    strides: (int, int) = (2, 2)\n",
    "    kernel: (int, int) = (4, 4)\n",
    "    kernel_init: nn.initializers.Initializer = nn.initializers.lecun_normal()\n",
    "    bias_init: nn.initializers.Initializer = nn.initializers.zeros\n",
    "\n",
    "    @nn.compact\n",
    "    def __call__(self, inputs):\n",
    "\n",
    "        def unconv(img, features):\n",
    "            img = nn.ConvTranspose(features=features, kernel_size=self.kernel, strides=self.strides)(img)\n",
    "            img = nn.leaky_relu(img)\n",
    "            return img\n",
    "\n",
    "        x = inputs\n",
    "        for c in self.channels:\n",
    "            x = unconv(x, c)\n",
    "\n",
    "        return x\n",
    "\n",
    "class VQVAE(nn.Module):\n",
    "    channels: Sequence[int] = field(default_factory=lambda: [3, 8, 16, 32, 64])\n",
    "    embeddings: int = 256\n",
    "    embeddings_init: nn.initializers.Initializer = nn.initializers.normal()\n",
    "    commitment_cost: float = 0.25\n",
    "\n",
    "    def setup(self):\n",
    "        self.encoder = Encoder(channels=self.channels[1:])\n",
    "        self.decoder = Decoder(channels=self.channels[::-1][1:])\n",
    "        self.codebook = self.param(\"codebook\", self.embeddings_init, (self.embeddings, self.channels[-1]))\n",
    "\n",
    "    def encode(self, inputs):\n",
    "        z_e = self.encoder(inputs)\n",
    "        return z_e\n",
    "\n",
    "    def decode(self, z_q):\n",
    "        x_hat = self.decoder(z_q)\n",
    "        return x_hat\n",
    "\n",
    "    def __call__(self, inputs):\n",
    "        z_e = self.encode(inputs)\n",
    "        batch_size, h, w, c = z_e.shape\n",
    "        flatten = jnp.reshape(z_e, (batch_size * h * w, c))\n",
    "        distances = jnp.sum((flatten[:, None] - self.codebook) ** 2, axis=-1)\n",
    "        indices = jnp.argmin(distances, axis=-1)\n",
    "        indices_reshaped = jnp.reshape(indices, (batch_size, h, w))\n",
    "        z_q = jax.lax.stop_gradient(self.codebook[indices_reshaped])\n",
    "        z_q = jnp.reshape(z_q, (batch_size, h, w, c))\n",
    "        z_q_latent_diff = z_e - z_q\n",
    "        x_hat = self.decode(z_q)\n",
    "        return x_hat, indices, z_q_latent_diff\n"
   ],
   "metadata": {
    "collapsed": false,
    "ExecuteTime": {
     "start_time": "2023-04-23T20:21:37.431064Z",
     "end_time": "2023-04-23T20:21:37.489621Z"
    }
   }
  },
  {
   "cell_type": "code",
   "execution_count": 72,
   "outputs": [],
   "source": [
    "key_root = jax.random.PRNGKey(1)\n",
    "key_init, key_train, key_infer = jax.random.split(key_root, 3)\n",
    "\n",
    "model = VQVAE()\n",
    "optim = optax.adam(1e-4)\n",
    "\n",
    "# noinspection PyShadowingNames\n",
    "@jax.jit\n",
    "def train_step(params, opt_state, batch, epoch):\n",
    "\n",
    "    # noinspection PyShadowingNames\n",
    "    def loss_fn(params, x_batch):\n",
    "        x_hat, z_q_indices, z_q_latent_diff = model.apply(params, x_batch)\n",
    "        reconstruct_loss = optax.l2_loss(x_hat, x_batch).mean()\n",
    "        commitment_loss = jnp.mean(z_q_latent_diff ** 2)\n",
    "        vq_loss = jnp.mean((jax.lax.stop_gradient(z_q_latent_diff)) ** 2)\n",
    "        total_loss = reconstruct_loss + model.commitment_cost * commitment_loss + vq_loss\n",
    "        return total_loss, (reconstruct_loss, commitment_loss, vq_loss)\n",
    "\n",
    "    (loss, (reconstruct_loss, commitment_loss, vq_loss)), grad = jax.value_and_grad(loss_fn, has_aux=True)(params, batch)\n",
    "    updates, opt_state = optim.update(grad, opt_state)\n",
    "    params = optax.apply_updates(params, updates)\n",
    "    return params, opt_state, loss, reconstruct_loss, commitment_loss, vq_loss\n"
   ],
   "metadata": {
    "collapsed": false,
    "ExecuteTime": {
     "start_time": "2023-04-23T20:21:55.376303Z",
     "end_time": "2023-04-23T20:21:55.419512Z"
    }
   }
  },
  {
   "cell_type": "code",
   "execution_count": 73,
   "outputs": [],
   "source": [
    "batch_key, vae_key = jax.random.split(key_init)\n",
    "vae_init_input = get_batch(all_images, batch_key, size=10)\n",
    "vae_params = model.init(vae_key, vae_init_input)\n",
    "opt_state = optim.init(vae_params)\n",
    "history = {'loss': [], 'reconstruct_loss': [], 'commitment_loss': [], 'vq_loss': []}"
   ],
   "metadata": {
    "collapsed": false,
    "ExecuteTime": {
     "start_time": "2023-04-23T20:21:56.414619Z",
     "end_time": "2023-04-23T20:21:57.218167Z"
    }
   }
  },
  {
   "cell_type": "code",
   "execution_count": 74,
   "outputs": [
    {
     "name": "stderr",
     "output_type": "stream",
     "text": [
      "100%|██████████| 10000/10000 [01:41<00:00, 98.07it/s]\n"
     ]
    }
   ],
   "source": [
    "for epoch in tqdm(range(10000)):\n",
    "    epoch_key = jax.random.fold_in(key=key_train, data=epoch)\n",
    "    batch_key, vae_key = jax.random.split(epoch_key)\n",
    "    batch = get_batch(all_images, batch_key, size=10)\n",
    "    vae_params, opt_state, loss, reconstruct_loss, commitment_loss, vq_loss = train_step(vae_params, opt_state, batch, epoch)\n",
    "    history['loss'].append(loss)\n",
    "    history['reconstruct_loss'].append(reconstruct_loss)\n",
    "    history['commitment_loss'].append(commitment_loss)\n",
    "    history['vq_loss'].append(vq_loss)\n",
    "    if (epoch + 1) % 1000 == 0:\n",
    "        pass\n",
    "        # print(f\"Loss: {loss}, Reconstruct: {reconstruct_loss}, Commitment: {commitment_loss}, VQ: {vq_loss}\")\n"
   ],
   "metadata": {
    "collapsed": false,
    "ExecuteTime": {
     "start_time": "2023-04-23T20:21:58.831913Z",
     "end_time": "2023-04-23T20:23:40.807986Z"
    }
   }
  },
  {
   "cell_type": "code",
   "execution_count": 75,
   "outputs": [
    {
     "data": {
      "text/plain": "<Figure size 640x480 with 3 Axes>",
      "image/png": "[encoded data removed]"
     },
     "metadata": {},
     "output_type": "display_data"
    }
   ],
   "source": [
    "start, end, step = None, None, 100\n",
    "figure, ax = plt.subplots(3)\n",
    "ax[0].plot(history['reconstruct_loss'][start:end:step], label=\"Reconstruct\")\n",
    "ax[0].legend()\n",
    "ax[1].plot(history['commitment_loss'][start:end:step], label=\"Commitment\")\n",
    "ax[1].legend()\n",
    "ax[2].plot(history['vq_loss'][start:end:step], label=\"VQ\")\n",
    "ax[2].legend()\n",
    "plt.show()\n"
   ],
   "metadata": {
    "collapsed": false,
    "ExecuteTime": {
     "start_time": "2023-04-23T20:26:51.548346Z",
     "end_time": "2023-04-23T20:26:52.081767Z"
    }
   }
  },
  {
   "cell_type": "code",
   "execution_count": 76,
   "outputs": [
    {
     "data": {
      "text/plain": "<PIL.Image.Image image mode=RGB size=128x128>",
      "image/png": "[encoded data removed]"
     },
     "metadata": {},
     "output_type": "display_data"
    },
    {
     "data": {
      "text/plain": "<PIL.Image.Image image mode=RGB size=128x128>",
      "image/png": "[encoded data removed]"
     },
     "metadata": {},
     "output_type": "display_data"
    },
    {
     "data": {
      "text/plain": "<PIL.Image.Image image mode=RGB size=128x128>",
      "image/png": "[encoded data removed]"
     },
     "metadata": {},
     "output_type": "display_data"
    }
   ],
   "source": [
    "batch_key, _ = jax.random.split(key_infer)\n",
    "eval_batch = get_batch(all_images, batch_key, size=10)\n",
    "batch_infer, _, _ = model.apply(vae_params, eval_batch)\n",
    "eval_images = batch_to_images(batch_infer)\n",
    "eval_images[0].show()\n",
    "eval_images[1].show()\n",
    "eval_images[2].show()"
   ],
   "metadata": {
    "collapsed": false,
    "ExecuteTime": {
     "start_time": "2023-04-23T20:26:52.969786Z",
     "end_time": "2023-04-23T20:26:53.429366Z"
    }
   }
  },
  {
   "cell_type": "code",
   "execution_count": 77,
   "outputs": [
    {
     "data": {
      "text/plain": "(256, 64)"
     },
     "execution_count": 77,
     "metadata": {},
     "output_type": "execute_result"
    }
   ],
   "source": [
    "codebook = vae_params['params']['codebook']\n",
    "codebook.shape"
   ],
   "metadata": {
    "collapsed": false,
    "ExecuteTime": {
     "start_time": "2023-04-23T20:27:00.437823Z",
     "end_time": "2023-04-23T20:27:00.454822Z"
    }
   }
  },
  {
   "cell_type": "code",
   "execution_count": 78,
   "outputs": [],
   "source": [
    "if not os.path.exists(\"./models\"):\n",
    "    os.mkdir(\"./models\")\n",
    "\n",
    "with open(\"./models/VQVAE-128-daisy-10000-steps.pickle\", 'wb') as f:\n",
    "    pickle.dump(vae_params, f)\n"
   ],
   "metadata": {
    "collapsed": false,
    "ExecuteTime": {
     "start_time": "2023-04-23T20:27:09.254228Z",
     "end_time": "2023-04-23T20:27:09.281389Z"
    }
   }
  },
  {
   "cell_type": "code",
   "execution_count": null,
   "outputs": [],
   "source": [],
   "metadata": {
    "collapsed": false
   }
  }
 ],
 "metadata": {
  "kernelspec": {
   "display_name": "Python 3",
   "language": "python",
   "name": "python3"
  },
  "language_info": {
   "codemirror_mode": {
    "name": "ipython",
    "version": 2
   },
   "file_extension": ".py",
   "mimetype": "text/x-python",
   "name": "python",
   "nbconvert_exporter": "python",
   "pygments_lexer": "ipython2",
   "version": "2.7.6"
  }
 },
 "nbformat": 4,
 "nbformat_minor": 0
}
